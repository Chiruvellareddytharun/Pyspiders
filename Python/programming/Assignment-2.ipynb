{
 "cells": [
  {
   "cell_type": "markdown",
   "metadata": {},
   "source": [
    "## assignment-2"
   ]
  },
  {
   "cell_type": "code",
   "execution_count": 10,
   "metadata": {},
   "outputs": [
    {
     "name": "stdout",
     "output_type": "stream",
     "text": [
      "1 * * * \n",
      "2 3 * * \n",
      "4 5 6 * \n",
      "7 8 9 1 \n"
     ]
    }
   ],
   "source": [
    "#1.\n",
    "n=int(input(\"n: \"))\n",
    "val=1\n",
    "\n",
    "for i in range(n):\n",
    "    for j in range(n):\n",
    "        if i>=j:\n",
    "            print(val,end=\" \")\n",
    "            val+=1\n",
    "            if val>9:\n",
    "               val=1\n",
    "        else:\n",
    "            print(\"*\",end=\" \")  \n",
    "     \n",
    "    print() \n",
    "             "
   ]
  },
  {
   "cell_type": "code",
   "execution_count": 21,
   "metadata": {},
   "outputs": [
    {
     "name": "stdout",
     "output_type": "stream",
     "text": [
      "* 1 2 3 4 5 6 7 8 9 1 \n",
      "1 * 1 2 3 4 5 6 7 8 9 \n",
      "1 2 * 1 2 3 4 5 6 7 8 \n",
      "1 2 3 * 1 2 3 4 5 6 7 \n",
      "1 2 3 4 * 1 2 3 4 5 6 \n",
      "1 2 3 4 5 * 1 2 3 4 5 \n",
      "1 2 3 4 5 6 * 1 2 3 4 \n",
      "1 2 3 4 5 6 7 * 1 2 3 \n",
      "1 2 3 4 5 6 7 8 * 1 2 \n",
      "1 2 3 4 5 6 7 8 9 * 1 \n",
      "1 2 3 4 5 6 7 8 9 1 * \n"
     ]
    }
   ],
   "source": [
    "#2.\n",
    "n=int(input(\"n: \"))\n",
    "val=1\n",
    "val1=1\n",
    "\n",
    "for i in range(n):\n",
    "    # val=1\n",
    "    # val1=1\n",
    "    for j in range(n):\n",
    "        if i==j:\n",
    "            print(\"*\",end=\" \")\n",
    "            \n",
    "        else:\n",
    "            if i>j:\n",
    "               print(val,end=\" \")\n",
    "               val+=1\n",
    "               if val>9:\n",
    "                  val=1\n",
    "               \n",
    "            else:\n",
    "                print(val1,end=\" \")  \n",
    "                val1+=1 \n",
    "                if val1>9:\n",
    "                   val1=1  \n",
    "     \n",
    "    print() \n",
    "    val=1\n",
    "    val1=1\n",
    "             "
   ]
  },
  {
   "cell_type": "code",
   "execution_count": 41,
   "metadata": {},
   "outputs": [
    {
     "name": "stdout",
     "output_type": "stream",
     "text": [
      "        1 \n",
      "      * * \n",
      "    2 2 2 \n",
      "  * * * * \n",
      "3 3 3 3 3 \n"
     ]
    }
   ],
   "source": [
    "#3.\n",
    "n=int(input(\"n: \"))\n",
    "val=1\n",
    "\n",
    "for i in range(n):\n",
    "    for j in range(n):\n",
    "        if i+j>=n-1:\n",
    "            if i%2==0:\n",
    "              print(val,end=\" \")\n",
    "            \n",
    "            else:\n",
    "              print(\"*\",end=\" \")  \n",
    "        else:\n",
    "           print(\" \",end=\" \")\n",
    "\n",
    "    print()\n",
    "    if i%2==0:\n",
    "       val+=1 \n",
    "       if val>9:\n",
    "          val=1\n",
    "             "
   ]
  },
  {
   "cell_type": "code",
   "execution_count": 44,
   "metadata": {},
   "outputs": [
    {
     "name": "stdout",
     "output_type": "stream",
     "text": [
      "1       \n",
      "* 2     \n",
      "* 3 *   \n",
      "4 * 5 * \n"
     ]
    }
   ],
   "source": [
    "#4.\n",
    "n=int(input(\"n: \"))\n",
    "val=1\n",
    "p=True\n",
    "\n",
    "for i in range(n):\n",
    "    for j in range(n):\n",
    "        if i>=j:\n",
    "            if p: \n",
    "              print(val,end=\" \") \n",
    "              val+=1\n",
    "              if val>9:\n",
    "                  val=1\n",
    "              p=False\n",
    "            else:\n",
    "                print(\"*\",end=\" \")\n",
    "                p=True     \n",
    "        else:\n",
    "            print(\" \",end=\" \")  \n",
    "     \n",
    "    print() \n",
    "             "
   ]
  },
  {
   "cell_type": "code",
   "execution_count": 47,
   "metadata": {},
   "outputs": [
    {
     "name": "stdout",
     "output_type": "stream",
     "text": [
      "1 * 2 \n",
      "* 3 * \n",
      "4 * 5 \n"
     ]
    }
   ],
   "source": [
    "#5.\n",
    "n=int(input(\"n: \"))\n",
    "val=1\n",
    "p=True\n",
    "\n",
    "for i in range(n):\n",
    "    for j in range(n):\n",
    "            if p: \n",
    "              print(val,end=\" \") \n",
    "              val+=1\n",
    "              if val>9:\n",
    "                  val=1\n",
    "              p=False\n",
    "            else:\n",
    "                print(\"*\",end=\" \")\n",
    "                p=True       \n",
    "     \n",
    "    print() \n",
    "             "
   ]
  },
  {
   "cell_type": "code",
   "execution_count": 49,
   "metadata": {},
   "outputs": [
    {
     "name": "stdout",
     "output_type": "stream",
     "text": [
      "*       * \n",
      "  *   *   \n",
      "    *     \n",
      "  *   *   \n",
      "*       * \n"
     ]
    }
   ],
   "source": [
    "#6.\n",
    "n=int(input(\"n: \"))\n",
    "\n",
    "for i in range(n):\n",
    "    for j in range(n):\n",
    "        if i==j or i+j==n-1:\n",
    "            print(\"*\",end=\" \")\n",
    "        else:\n",
    "            print(\" \",end=\" \")  \n",
    "     \n",
    "    print() \n",
    "             "
   ]
  },
  {
   "cell_type": "code",
   "execution_count": 50,
   "metadata": {},
   "outputs": [
    {
     "name": "stdout",
     "output_type": "stream",
     "text": [
      "* * * * \n",
      "*     * \n",
      "*     * \n",
      "* * * * \n"
     ]
    }
   ],
   "source": [
    "#7.\n",
    "n=int(input(\"n: \"))\n",
    "\n",
    "for i in range(n):\n",
    "    for j in range(n):\n",
    "        if i==0 or j==0 or i==n-1 or j==n-1:\n",
    "            print(\"*\",end=\" \")\n",
    "            \n",
    "        else:\n",
    "            print(\" \",end=\" \")  \n",
    "     \n",
    "    print() \n",
    "             "
   ]
  },
  {
   "cell_type": "code",
   "execution_count": 9,
   "metadata": {},
   "outputs": [
    {
     "name": "stdout",
     "output_type": "stream",
     "text": [
      "* * * * * * * * * \n",
      "* *           * * \n",
      "*   *       *   * \n",
      "*     *   *     * \n",
      "*       *       * \n",
      "*     *   *     * \n",
      "*   *       *   * \n",
      "* *           * * \n",
      "* * * * * * * * * \n"
     ]
    }
   ],
   "source": [
    "#8.\n",
    "n=int(input(\"n: \"))\n",
    "\n",
    "for i in range(n):\n",
    "    for j in range(n):\n",
    "        if i==0 or j==0 or i==n-1 or j==n-1 or i==j or i+j==n-1:\n",
    "            print(\"*\",end=\" \")\n",
    "            \n",
    "        else:\n",
    "            print(\" \",end=\" \")  \n",
    "     \n",
    "    print() "
   ]
  },
  {
   "cell_type": "code",
   "execution_count": 56,
   "metadata": {},
   "outputs": [
    {
     "name": "stdout",
     "output_type": "stream",
     "text": [
      "* * * * * \n",
      "*       * \n",
      "*   *   * \n",
      "*       * \n",
      "* * * * * \n"
     ]
    }
   ],
   "source": [
    "#9.\n",
    "n=int(input(\"n: \"))\n",
    "\n",
    "for i in range(n):\n",
    "    for j in range(n):\n",
    "        if (i==0 or j==0 or i==n-1 or j==n-1) or (i==j and i+j==n-1) :#(i==n//2 and j==n//2)\n",
    "            print(\"*\",end=\" \")\n",
    "            \n",
    "        else:\n",
    "            print(\" \",end=\" \")  \n",
    "     \n",
    "    print() "
   ]
  },
  {
   "cell_type": "code",
   "execution_count": 3,
   "metadata": {},
   "outputs": [
    {
     "name": "stdout",
     "output_type": "stream",
     "text": [
      "* * * * * * \n",
      "*         * \n",
      "*         * \n",
      "*         * \n",
      "*         * \n",
      "* * * * * * \n",
      "*         * \n",
      "*         * \n"
     ]
    }
   ],
   "source": [
    "#10.\n",
    "n=int(input(\"n: \"))\n",
    "\n",
    "for i in range(n):\n",
    "    for j in range(n-2):\n",
    "        if i==0 or j==0 or i==n-3 or j==n-3:\n",
    "            print(\"*\",end=\" \")\n",
    "            \n",
    "        else:\n",
    "            print(\" \",end=\" \")  \n",
    "     \n",
    "    print() "
   ]
  },
  {
   "cell_type": "code",
   "execution_count": 4,
   "metadata": {},
   "outputs": [
    {
     "name": "stdout",
     "output_type": "stream",
     "text": [
      "* * * * * * * * \n",
      "*             * \n",
      "*             * \n",
      "*             * \n",
      "*             * \n",
      "* * * * * * * * \n",
      "*             * \n",
      "*             * \n"
     ]
    }
   ],
   "source": [
    "#11.\n",
    "n=int(input(\"n: \"))\n",
    "\n",
    "for i in range(n):\n",
    "    for j in range(n):\n",
    "        if i==0 or j==0 or i==n-3 or j==n-1:\n",
    "            print(\"*\",end=\" \")\n",
    "            \n",
    "        else:\n",
    "            print(\" \",end=\" \")  \n",
    "     \n",
    "    print() "
   ]
  },
  {
   "cell_type": "code",
   "execution_count": 10,
   "metadata": {},
   "outputs": [
    {
     "name": "stdout",
     "output_type": "stream",
     "text": [
      "*           \n",
      "* *         \n",
      "*   *       \n",
      "*     *     \n",
      "*       *   \n",
      "* * * * * * \n"
     ]
    }
   ],
   "source": [
    "#12.\n",
    "n=int(input(\"n: \"))\n",
    "\n",
    "for i in range(n):\n",
    "    for j in range(n):\n",
    "        # if i>=j :\n",
    "            if j==0 or i==n-1 or i==j :\n",
    "               print(\"*\",end=\" \")\n",
    "            else:\n",
    "                print(\" \",end=\" \")\n",
    "        # else:\n",
    "        #     print(\" \",end=\" \")  \n",
    "     \n",
    "    print() "
   ]
  },
  {
   "cell_type": "code",
   "execution_count": null,
   "metadata": {},
   "outputs": [],
   "source": []
  }
 ],
 "metadata": {
  "kernelspec": {
   "display_name": "Python 3",
   "language": "python",
   "name": "python3"
  },
  "language_info": {
   "codemirror_mode": {
    "name": "ipython",
    "version": 3
   },
   "file_extension": ".py",
   "mimetype": "text/x-python",
   "name": "python",
   "nbconvert_exporter": "python",
   "pygments_lexer": "ipython3",
   "version": "3.12.2"
  }
 },
 "nbformat": 4,
 "nbformat_minor": 2
}
