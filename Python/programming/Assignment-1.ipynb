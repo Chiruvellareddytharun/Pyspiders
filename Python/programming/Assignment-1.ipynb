{
 "cells": [
  {
   "cell_type": "markdown",
   "metadata": {},
   "source": [
    "### assignment-1\n"
   ]
  },
  {
   "cell_type": "code",
   "execution_count": 3,
   "metadata": {},
   "outputs": [
    {
     "name": "stdout",
     "output_type": "stream",
     "text": [
      "1         \n",
      "2 2       \n",
      "3 3 3     \n",
      "4 4 4 4   \n",
      "5 5 5 5 5 \n"
     ]
    }
   ],
   "source": [
    "#1.\n",
    "n=int(input(\"n: \"))\n",
    "val=1\n",
    "\n",
    "for i in range(n):\n",
    "    for j in range(n):\n",
    "        if i>=j:\n",
    "            print(val,end=\" \")\n",
    "        else:\n",
    "            print(\" \",end=\" \")\n",
    "    print()\n",
    "    val+=1 \n",
    "    if val>9:\n",
    "        val=1           "
   ]
  },
  {
   "cell_type": "code",
   "execution_count": 7,
   "metadata": {},
   "outputs": [
    {
     "name": "stdout",
     "output_type": "stream",
     "text": [
      "9                       \n",
      "8 8                     \n",
      "7 7 7                   \n",
      "6 6 6 6                 \n",
      "5 5 5 5 5               \n",
      "4 4 4 4 4 4             \n",
      "3 3 3 3 3 3 3           \n",
      "2 2 2 2 2 2 2 2         \n",
      "1 1 1 1 1 1 1 1 1       \n",
      "9 9 9 9 9 9 9 9 9 9     \n",
      "8 8 8 8 8 8 8 8 8 8 8   \n",
      "7 7 7 7 7 7 7 7 7 7 7 7 \n"
     ]
    }
   ],
   "source": [
    "#2.\n",
    "n=int(input(\"n: \"))\n",
    "val=n\n",
    "if val>9:\n",
    "    val=9\n",
    "\n",
    "for i in range(n):\n",
    "    for j in range(n):\n",
    "        if i>=j:\n",
    "            print(val,end=\" \")\n",
    "        else:\n",
    "            print(\" \",end=\" \")\n",
    "    print()\n",
    "    val-=1 \n",
    "    if val<1:\n",
    "        val=9"
   ]
  },
  {
   "cell_type": "code",
   "execution_count": 10,
   "metadata": {},
   "outputs": [
    {
     "name": "stdout",
     "output_type": "stream",
     "text": [
      "9                       \n",
      "  8                     \n",
      "    7                   \n",
      "      6                 \n",
      "        5               \n",
      "          4             \n",
      "            3           \n",
      "              2         \n",
      "                1       \n",
      "                  9     \n",
      "                    8   \n",
      "                      7 \n"
     ]
    }
   ],
   "source": [
    "#3.\n",
    "n=int(input(\"n: \"))\n",
    "val=n\n",
    "if val>9:\n",
    "    val=9\n",
    "\n",
    "for i in range(n):\n",
    "    for j in range(n):\n",
    "        if i==j:\n",
    "            print(val,end=\" \")\n",
    "        else:\n",
    "            print(\" \",end=\" \")\n",
    "    print()\n",
    "    val-=1 \n",
    "    if val<1:\n",
    "        val=9\n",
    "    \n"
   ]
  },
  {
   "cell_type": "code",
   "execution_count": 9,
   "metadata": {},
   "outputs": [
    {
     "name": "stdout",
     "output_type": "stream",
     "text": [
      "1         \n",
      "  2       \n",
      "    3     \n",
      "      4   \n",
      "        5 \n"
     ]
    }
   ],
   "source": [
    "#4.\n",
    "n=int(input(\"n: \"))\n",
    "val=1\n",
    "\n",
    "for i in range(n):\n",
    "    for j in range(n):\n",
    "        if i==j:\n",
    "            print(val,end=\" \")\n",
    "        else:\n",
    "            print(\" \",end=\" \")\n",
    "    print()\n",
    "    val+=1 \n",
    "    "
   ]
  },
  {
   "cell_type": "code",
   "execution_count": 17,
   "metadata": {},
   "outputs": [
    {
     "name": "stdout",
     "output_type": "stream",
     "text": [
      "A         \n",
      "  B       \n",
      "    C     \n",
      "      D   \n",
      "        E \n"
     ]
    }
   ],
   "source": [
    "#5.\n",
    "n=int(input(\"n: \"))\n",
    "val=ord('A')\n",
    "\n",
    "for i in range(n):\n",
    "    for j in range(n):\n",
    "        if i==j:\n",
    "            print(chr(val),end=\" \")\n",
    "        else:\n",
    "            print(\" \",end=\" \")\n",
    "    print()\n",
    "    val+=1 \n",
    "    if val>ord('Z'):\n",
    "        val=ord('A')"
   ]
  },
  {
   "cell_type": "code",
   "execution_count": 24,
   "metadata": {},
   "outputs": [
    {
     "name": "stdout",
     "output_type": "stream",
     "text": [
      "Z         \n",
      "  Y       \n",
      "    X     \n",
      "      W   \n",
      "        V \n"
     ]
    }
   ],
   "source": [
    "#6.\n",
    "n=int(input(\"n: \"))\n",
    "val=ord('Z')\n",
    "if val>ord('Z'):\n",
    "    val=ord('z')\n",
    "\n",
    "for i in range(n):\n",
    "    for j in range(n):\n",
    "        if i==j:\n",
    "            print(chr(val),end=\" \")\n",
    "        else:\n",
    "            print(\" \",end=\" \")\n",
    "    print()\n",
    "    val-=1 \n",
    "    if val<ord('A'):\n",
    "        val=ord('Z')"
   ]
  },
  {
   "cell_type": "code",
   "execution_count": 29,
   "metadata": {},
   "outputs": [
    {
     "name": "stdout",
     "output_type": "stream",
     "text": [
      "    1 \n",
      "  2 2 \n",
      "3 3 3 \n"
     ]
    }
   ],
   "source": [
    "#7.\n",
    "n=int(input(\"n: \"))\n",
    "val=1\n",
    "\n",
    "for i in range(n):\n",
    "    for j in range(n):\n",
    "        if i+j>=n-1:\n",
    "            print(val,end=\" \")\n",
    "        else:\n",
    "            print(\" \",end=\" \")\n",
    "    print()\n",
    "    val+=1 \n",
    "    if val>9:\n",
    "        val=1"
   ]
  },
  {
   "cell_type": "code",
   "execution_count": 32,
   "metadata": {},
   "outputs": [
    {
     "name": "stdout",
     "output_type": "stream",
     "text": [
      "      4 \n",
      "    3 3 \n",
      "  2 2 2 \n",
      "1 1 1 1 \n"
     ]
    }
   ],
   "source": [
    "#8.\n",
    "n=int(input(\"n: \"))\n",
    "val=n\n",
    "if val>9:\n",
    "    val=9\n",
    "\n",
    "for i in range(n):\n",
    "    for j in range(n):\n",
    "        if i+j>=n-1:\n",
    "            print(val,end=\" \")\n",
    "        else:\n",
    "            print(\" \",end=\" \")\n",
    "    print()\n",
    "    val-=1 \n",
    "    if val<1:\n",
    "        val=9"
   ]
  },
  {
   "cell_type": "code",
   "execution_count": 59,
   "metadata": {},
   "outputs": [
    {
     "name": "stdout",
     "output_type": "stream",
     "text": [
      "1 2 3 4 5 6 7 8 9 1 2 3 \n",
      "  1 2 3 4 5 6 7 8 9 1 2 \n",
      "    1 2 3 4 5 6 7 8 9 1 \n",
      "      1 2 3 4 5 6 7 8 9 \n",
      "        1 2 3 4 5 6 7 8 \n",
      "          1 2 3 4 5 6 7 \n",
      "            1 2 3 4 5 6 \n",
      "              1 2 3 4 5 \n",
      "                1 2 3 4 \n",
      "                  1 2 3 \n",
      "                    1 2 \n",
      "                      1 \n"
     ]
    }
   ],
   "source": [
    "#9.\n",
    "n=int(input(\"n: \"))\n",
    "val=1\n",
    "\n",
    "for i in range(n):\n",
    "    for j in range(n):\n",
    "        if i<=j:\n",
    "            print(val,end=\" \")\n",
    "            val+=1\n",
    "            if val>9:\n",
    "                val=1\n",
    "        else:\n",
    "            print(\" \",end=\" \")\n",
    "    \n",
    "    print()\n",
    "    val=1 \n",
    "       "
   ]
  },
  {
   "cell_type": "code",
   "execution_count": 63,
   "metadata": {},
   "outputs": [
    {
     "name": "stdout",
     "output_type": "stream",
     "text": [
      "9 9 9 9 9 9 9 9 9 9 \n",
      "  8 8 8 8 8 8 8 8 8 \n",
      "    7 7 7 7 7 7 7 7 \n",
      "      6 6 6 6 6 6 6 \n",
      "        5 5 5 5 5 5 \n",
      "          4 4 4 4 4 \n",
      "            3 3 3 3 \n",
      "              2 2 2 \n",
      "                1 1 \n",
      "                  9 \n"
     ]
    }
   ],
   "source": [
    "#10.\n",
    "n=int(input(\"n: \"))\n",
    "val=n\n",
    "if val>9:\n",
    "    val=9\n",
    "\n",
    "for i in range(n):\n",
    "    for j in range(n):\n",
    "        if i<=j:\n",
    "            print(val,end=\" \")\n",
    "        else:\n",
    "            print(\" \",end=\" \")\n",
    "    \n",
    "    print()\n",
    "    val-=1\n",
    "    if val<1:\n",
    "        val=9\n",
    "    "
   ]
  },
  {
   "cell_type": "code",
   "execution_count": 67,
   "metadata": {},
   "outputs": [
    {
     "name": "stdout",
     "output_type": "stream",
     "text": [
      "A B C D \n",
      "  A B C \n",
      "    A B \n",
      "      A \n"
     ]
    }
   ],
   "source": [
    "#11.\n",
    "n=int(input(\"n: \"))\n",
    "val=ord('A')\n",
    "\n",
    "for i in range(n):\n",
    "    for j in range(n):\n",
    "        if i<=j:\n",
    "            print(chr(val),end=\" \")\n",
    "            val+=1\n",
    "            if val>ord('Z'):\n",
    "                val=ord('A')\n",
    "        else:\n",
    "            print(\" \",end=\" \")\n",
    "    \n",
    "    print()\n",
    "    val=ord('A')"
   ]
  },
  {
   "cell_type": "code",
   "execution_count": 71,
   "metadata": {},
   "outputs": [
    {
     "name": "stdout",
     "output_type": "stream",
     "text": [
      "A     \n",
      "A B   \n",
      "A B C \n"
     ]
    }
   ],
   "source": [
    "#12.\n",
    "n=int(input(\"n: \"))\n",
    "val=ord('A')\n",
    "\n",
    "for i in range(n):\n",
    "    for j in range(n):\n",
    "        if i>=j:\n",
    "            print(chr(val),end=\" \")\n",
    "            val+=1\n",
    "            if val>ord('Z'):\n",
    "                val=ord('A')\n",
    "        else:\n",
    "            print(\" \",end=\" \")\n",
    "\n",
    "    print()  \n",
    "    val=ord('A')  "
   ]
  },
  {
   "cell_type": "code",
   "execution_count": 78,
   "metadata": {},
   "outputs": [
    {
     "name": "stdout",
     "output_type": "stream",
     "text": [
      "\u0004 Z Y X \n",
      "  \u0004 Z Y \n",
      "    \u0004 Z \n",
      "      \u0004 \n"
     ]
    }
   ],
   "source": [
    "#!3.\n",
    "n=int(input(\"n: \"))\n",
    "val=n\n",
    "\n",
    "\n",
    "for i in range(n):\n",
    "    for j in range(n):\n",
    "        if i<=j:\n",
    "            print(chr(val),end=\" \")\n",
    "        else:\n",
    "            print(\" \",end=\" \")\n",
    "    \n",
    "    print()\n",
    "    val-=n\n",
    "    "
   ]
  },
  {
   "cell_type": "code",
   "execution_count": 77,
   "metadata": {},
   "outputs": [
    {
     "name": "stdout",
     "output_type": "stream",
     "text": [
      "Z       \n",
      "Z Y     \n",
      "Z Y X   \n",
      "Z Y X W \n"
     ]
    }
   ],
   "source": [
    "#14.\n",
    "n=int(input(\"n: \"))\n",
    "val=ord('Z')\n",
    "if val>ord(\"Z\"):\n",
    "    val=ord('Z')\n",
    "\n",
    "for i in range(n):\n",
    "    for j in range(n):\n",
    "        if i>=j:\n",
    "            print(chr(val),end=\" \")\n",
    "            val-=1 \n",
    "            if val<ord('A'):\n",
    "               val=ord(\"Z\")\n",
    "        else:\n",
    "            print(\" \",end=\" \")\n",
    "    \n",
    "    print()\n",
    "    val=ord('Z')"
   ]
  },
  {
   "cell_type": "code",
   "execution_count": 84,
   "metadata": {},
   "outputs": [
    {
     "name": "stdout",
     "output_type": "stream",
     "text": [
      "                                                          A \n",
      "                                                        C   \n",
      "                                                      E     \n",
      "                                                    G       \n",
      "                                                  I         \n",
      "                                                K           \n",
      "                                              M             \n",
      "                                            O               \n",
      "                                          Q                 \n",
      "                                        S                   \n",
      "                                      U                     \n",
      "                                    W                       \n",
      "                                  Y                         \n",
      "                                [                           \n",
      "                              ]                             \n",
      "                            _                               \n",
      "                          a                                 \n",
      "                        c                                   \n",
      "                      e                                     \n",
      "                    g                                       \n",
      "                  i                                         \n",
      "                k                                           \n",
      "              m                                             \n",
      "            o                                               \n",
      "          q                                                 \n",
      "        s                                                   \n",
      "      u                                                     \n",
      "    w                                                       \n",
      "  y                                                         \n",
      "{                                                           \n"
     ]
    }
   ],
   "source": [
    "#15.\n",
    "n=int(input(\"n: \"))\n",
    "val=ord('A')\n",
    "if val>ord(\"Z\"):\n",
    "    val=ord('Z')\n",
    "\n",
    "for i in range(n):\n",
    "    for j in range(n):\n",
    "        if i+j==n-1:\n",
    "            print(chr(val),end=\" \")\n",
    "            val+=1 \n",
    "            if val<ord('A'):\n",
    "               val=ord(\"Z\")\n",
    "        else:\n",
    "            print(\" \",end=\" \")\n",
    "    \n",
    "    print()\n",
    "    val+=1 \n",
    "    if val<ord('A'):\n",
    "        val=ord(\"Z\")\n",
    "    "
   ]
  },
  {
   "cell_type": "code",
   "execution_count": null,
   "metadata": {},
   "outputs": [],
   "source": []
  }
 ],
 "metadata": {
  "kernelspec": {
   "display_name": "Python 3",
   "language": "python",
   "name": "python3"
  },
  "language_info": {
   "codemirror_mode": {
    "name": "ipython",
    "version": 3
   },
   "file_extension": ".py",
   "mimetype": "text/x-python",
   "name": "python",
   "nbconvert_exporter": "python",
   "pygments_lexer": "ipython3",
   "version": "3.12.2"
  }
 },
 "nbformat": 4,
 "nbformat_minor": 2
}
