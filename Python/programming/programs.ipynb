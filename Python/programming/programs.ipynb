{
 "cells": [
  {
   "cell_type": "markdown",
   "metadata": {},
   "source": [
    "### swapping of two numbers\n"
   ]
  },
  {
   "cell_type": "code",
   "execution_count": 6,
   "metadata": {},
   "outputs": [
    {
     "name": "stdout",
     "output_type": "stream",
     "text": [
      "4 5\n",
      "5 4\n"
     ]
    }
   ],
   "source": [
    "a=int(input(\"enter the first number: \"))\n",
    "b=int(input(\"enter the second number: \"))\n",
    "print(a,b)\n",
    "a=a^b\n",
    "b=a^b\n",
    "a=a^b\n",
    "print(a,b)\n",
    "\n",
    "# print(a,b)\n",
    "# a=a+b\n",
    "# b=a-b\n",
    "# a=a-b\n",
    "# print(a,b)\n",
    "\n",
    "# print(a,b)\n",
    "# c=a\n",
    "# a=b\n",
    "# b=c\n",
    "# print(a,b)\n",
    "\n",
    "# print(a,b)\n",
    "# a=a*b\n",
    "# b=a//b\n",
    "# a=a//b\n",
    "# print(a,b)"
   ]
  },
  {
   "cell_type": "code",
   "execution_count": 7,
   "metadata": {},
   "outputs": [
    {
     "name": "stdout",
     "output_type": "stream",
     "text": [
      "tharun is not a polindrome\n"
     ]
    }
   ],
   "source": [
    "# program for polindrome\n",
    "\n",
    "a=input(\"enter the string: \")\n",
    "l1=list(a)\n",
    "l2=list(a)\n",
    "l2.reverse()\n",
    "if l1==l2:\n",
    "    print(f\"{a} is polindrome\")\n",
    "else:\n",
    "    print(f\"{a} is not a polindrome\")    "
   ]
  },
  {
   "cell_type": "markdown",
   "metadata": {},
   "source": [
    "#### Triangles"
   ]
  },
  {
   "cell_type": "code",
   "execution_count": 2,
   "metadata": {},
   "outputs": [
    {
     "name": "stdout",
     "output_type": "stream",
     "text": [
      "*         \n",
      "* *       \n",
      "* * *     \n",
      "* * * *   \n",
      "* * * * * \n"
     ]
    }
   ],
   "source": [
    "n=int(input(\"n: \"))\n",
    "for i in range(n):\n",
    "    for j in range(n):\n",
    "        if i>=j:\n",
    "            print(\"*\",end=\" \")\n",
    "        else:\n",
    "            print(\" \",end=\" \")\n",
    "    print()            "
   ]
  },
  {
   "cell_type": "markdown",
   "metadata": {},
   "source": [
    "### pyramids"
   ]
  },
  {
   "cell_type": "code",
   "execution_count": 1,
   "metadata": {},
   "outputs": [
    {
     "name": "stdout",
     "output_type": "stream",
     "text": [
      "          * \n",
      "        * * * \n",
      "      * * * * * \n",
      "    * * * * * * * \n",
      "  * * * * * * * * * \n",
      "* * * * * * * * * * * \n"
     ]
    }
   ],
   "source": [
    "#1.\n",
    "n=int(input(\"n: \"))\n",
    "str=1\n",
    "spc=n-1\n",
    " \n",
    "for i in range(n):\n",
    "    for j in range(spc):\n",
    "        print(\" \",end=\" \")\n",
    "    for k in range(str):\n",
    "        print(\"*\",end=\" \")\n",
    "\n",
    "    print()\n",
    "    spc-=1\n",
    "    str+=2"
   ]
  },
  {
   "cell_type": "code",
   "execution_count": 36,
   "metadata": {},
   "outputs": [
    {
     "name": "stdout",
     "output_type": "stream",
     "text": [
      "    * \n",
      "  * * * \n",
      "* * * * * \n"
     ]
    }
   ],
   "source": [
    "#2.\n",
    "n=int(input(\"n: \"))\n",
    " \n",
    "for i in range(n):\n",
    "    for j in range(n-i-1):\n",
    "        print(\" \",end=\" \")\n",
    "    for k in range(2*i+1):\n",
    "        print(\"*\",end=\" \")\n",
    "\n",
    "    print()"
   ]
  },
  {
   "cell_type": "code",
   "execution_count": 41,
   "metadata": {},
   "outputs": [
    {
     "name": "stdout",
     "output_type": "stream",
     "text": [
      "       *  \n",
      "     *   *  \n",
      "   *   *   *  \n",
      " *   *   *   *  \n"
     ]
    }
   ],
   "source": [
    "#3.\n",
    "n=int(input(\"n: \"))\n",
    " \n",
    "for i in range(n):\n",
    "    for j in range(n-i-1):\n",
    "        print(\" \",end=\" \")\n",
    "    for k in range(i+1):\n",
    "        print(\" * \",end=\" \")\n",
    "\n",
    "    print()\n"
   ]
  },
  {
   "cell_type": "code",
   "execution_count": 14,
   "metadata": {},
   "outputs": [
    {
     "name": "stdout",
     "output_type": "stream",
     "text": [
      "      *       \n",
      "    *   *     \n",
      "  *       *   \n",
      "* * * * * * * \n"
     ]
    }
   ],
   "source": [
    "#4.\n",
    "n=int(input(\"n: \"))\n",
    " \n",
    "for i in range(n):\n",
    "    for j in range(2*n-1):\n",
    "        if i+j==n-1 or j-i==n-1 or i==n-1:\n",
    "           print(\"*\",end=\" \")\n",
    "        else:\n",
    "            print(\" \",end=\" \")\n",
    "    print()\n",
    "    "
   ]
  },
  {
   "cell_type": "code",
   "execution_count": 43,
   "metadata": {},
   "outputs": [
    {
     "name": "stdout",
     "output_type": "stream",
     "text": [
      "* * * * * * * \n",
      "  *       *   \n",
      "    *   *     \n",
      "      *       \n"
     ]
    }
   ],
   "source": [
    "#5.\n",
    "n=int(input(\"n: \"))\n",
    " \n",
    "for i in range(n):\n",
    "    for j in range(2*n-1):\n",
    "        if i+j==2*n-2 or i==j or i==0:\n",
    "           print(\"*\",end=\" \")\n",
    "        else:\n",
    "            print(\" \",end=\" \")\n",
    "    print()\n",
    "    "
   ]
  },
  {
   "cell_type": "code",
   "execution_count": null,
   "metadata": {},
   "outputs": [],
   "source": []
  }
 ],
 "metadata": {
  "kernelspec": {
   "display_name": "Python 3",
   "language": "python",
   "name": "python3"
  },
  "language_info": {
   "codemirror_mode": {
    "name": "ipython",
    "version": 3
   },
   "file_extension": ".py",
   "mimetype": "text/x-python",
   "name": "python",
   "nbconvert_exporter": "python",
   "pygments_lexer": "ipython3",
   "version": "3.12.2"
  }
 },
 "nbformat": 4,
 "nbformat_minor": 2
}
