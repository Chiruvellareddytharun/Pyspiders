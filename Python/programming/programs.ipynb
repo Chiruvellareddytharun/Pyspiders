{
 "cells": [
  {
   "cell_type": "markdown",
   "metadata": {},
   "source": [
    "### swapping of two numbers\n"
   ]
  },
  {
   "cell_type": "code",
   "execution_count": 6,
   "metadata": {},
   "outputs": [
    {
     "name": "stdout",
     "output_type": "stream",
     "text": [
      "4 5\n",
      "5 4\n"
     ]
    }
   ],
   "source": [
    "a=int(input(\"enter the first number: \"))\n",
    "b=int(input(\"enter the second number: \"))\n",
    "print(a,b)\n",
    "a=a^b\n",
    "b=a^b\n",
    "a=a^b\n",
    "print(a,b)\n",
    "\n",
    "# print(a,b)\n",
    "# a=a+b\n",
    "# b=a-b\n",
    "# a=a-b\n",
    "# print(a,b)\n",
    "\n",
    "# print(a,b)\n",
    "# c=a\n",
    "# a=b\n",
    "# b=c\n",
    "# print(a,b)\n",
    "\n",
    "# print(a,b)\n",
    "# a=a*b\n",
    "# b=a//b\n",
    "# a=a//b\n",
    "# print(a,b)"
   ]
  },
  {
   "cell_type": "code",
   "execution_count": 3,
   "metadata": {},
   "outputs": [
    {
     "name": "stdout",
     "output_type": "stream",
     "text": [
      "tharun is not a polindrome\n"
     ]
    }
   ],
   "source": [
    "# program for polindrome\n",
    "\n",
    "a=input(\"enter the string: \")\n",
    "l1=list(a)\n",
    "l2=list(a)\n",
    "l2.reverse()\n",
    "if l1==l2:\n",
    "    print(f\"{a} is polindrome\")\n",
    "else:\n",
    "    print(f\"{a} is not a polindrome\")    "
   ]
  },
  {
   "cell_type": "markdown",
   "metadata": {},
   "source": [
    "#### Triangles"
   ]
  },
  {
   "cell_type": "code",
   "execution_count": 2,
   "metadata": {},
   "outputs": [
    {
     "name": "stdout",
     "output_type": "stream",
     "text": [
      "*         \n",
      "* *       \n",
      "* * *     \n",
      "* * * *   \n",
      "* * * * * \n"
     ]
    }
   ],
   "source": [
    "n=int(input(\"n: \"))\n",
    "for i in range(n):\n",
    "    for j in range(n):\n",
    "        if i>=j:\n",
    "            print(\"*\",end=\" \")\n",
    "        else:\n",
    "            print(\" \",end=\" \")\n",
    "    print()            "
   ]
  },
  {
   "cell_type": "code",
   "execution_count": 4,
   "metadata": {},
   "outputs": [
    {
     "name": "stdout",
     "output_type": "stream",
     "text": [
      "* 1 2 3 \n",
      "1 * 1 2 \n",
      "1 2 * 1 \n",
      "1 2 3 * \n"
     ]
    }
   ],
   "source": [
    "n=int(input())\n",
    "for i in range(n):\n",
    "    val1=1\n",
    "    val2=1\n",
    "    for j in range(n):\n",
    "        if i<j:\n",
    "            print(val1,end=\" \")\n",
    "            val1+=1\n",
    "            if val1>9:\n",
    "                val1=1\n",
    "        elif i>j:\n",
    "            print(val2,end=\" \")\n",
    "            val2+=1\n",
    "            if val2>9:\n",
    "                val2=1\n",
    "        else:\n",
    "            print(\"*\",end=\" \")\n",
    "    print()                "
   ]
  },
  {
   "cell_type": "markdown",
   "metadata": {},
   "source": [
    "### pyramids"
   ]
  },
  {
   "cell_type": "code",
   "execution_count": 1,
   "metadata": {},
   "outputs": [
    {
     "name": "stdout",
     "output_type": "stream",
     "text": [
      "          * \n",
      "        * * * \n",
      "      * * * * * \n",
      "    * * * * * * * \n",
      "  * * * * * * * * * \n",
      "* * * * * * * * * * * \n"
     ]
    }
   ],
   "source": [
    "#1.\n",
    "n=int(input(\"n: \"))\n",
    "str=1\n",
    "spc=n-1\n",
    " \n",
    "for i in range(n):\n",
    "    for j in range(spc):\n",
    "        print(\" \",end=\" \")\n",
    "    for k in range(str):\n",
    "        print(\"*\",end=\" \")\n",
    "\n",
    "    print()\n",
    "    spc-=1\n",
    "    str+=2"
   ]
  },
  {
   "cell_type": "code",
   "execution_count": 36,
   "metadata": {},
   "outputs": [
    {
     "name": "stdout",
     "output_type": "stream",
     "text": [
      "    * \n",
      "  * * * \n",
      "* * * * * \n"
     ]
    }
   ],
   "source": [
    "#2.\n",
    "n=int(input(\"n: \"))\n",
    " \n",
    "for i in range(n):\n",
    "    for j in range(n-i-1):\n",
    "        print(\" \",end=\" \")\n",
    "    for k in range(2*i+1):\n",
    "        print(\"*\",end=\" \")\n",
    "\n",
    "    print()"
   ]
  },
  {
   "cell_type": "code",
   "execution_count": 41,
   "metadata": {},
   "outputs": [
    {
     "name": "stdout",
     "output_type": "stream",
     "text": [
      "       *  \n",
      "     *   *  \n",
      "   *   *   *  \n",
      " *   *   *   *  \n"
     ]
    }
   ],
   "source": [
    "#3.\n",
    "n=int(input(\"n: \"))\n",
    " \n",
    "for i in range(n):\n",
    "    for j in range(n-i-1):\n",
    "        print(\" \",end=\" \")\n",
    "    for k in range(i+1):\n",
    "        print(\" * \",end=\" \")\n",
    "\n",
    "    print()\n"
   ]
  },
  {
   "cell_type": "code",
   "execution_count": 14,
   "metadata": {},
   "outputs": [
    {
     "name": "stdout",
     "output_type": "stream",
     "text": [
      "      *       \n",
      "    *   *     \n",
      "  *       *   \n",
      "* * * * * * * \n"
     ]
    }
   ],
   "source": [
    "#4.\n",
    "n=int(input(\"n: \"))\n",
    " \n",
    "for i in range(n):\n",
    "    for j in range(2*n-1):\n",
    "        if i+j==n-1 or j-i==n-1 or i==n-1:\n",
    "           print(\"*\",end=\" \")\n",
    "        else:\n",
    "            print(\" \",end=\" \")\n",
    "    print()\n",
    "    "
   ]
  },
  {
   "cell_type": "code",
   "execution_count": 8,
   "metadata": {},
   "outputs": [
    {
     "name": "stdout",
     "output_type": "stream",
     "text": [
      "* * * * * * * * * \n",
      "  *           *   \n",
      "    *       *     \n",
      "      *   *       \n",
      "        *         \n"
     ]
    }
   ],
   "source": [
    "#5.\n",
    "n=int(input(\"n: \"))\n",
    " \n",
    "for i in range(n):\n",
    "    for j in range(2*n-1):\n",
    "        if i+j==2*n-2 or i==j or i==0:\n",
    "           print(\"*\",end=\" \")\n",
    "        else:\n",
    "            print(\" \",end=\" \")\n",
    "    print()\n",
    "    "
   ]
  },
  {
   "cell_type": "markdown",
   "metadata": {},
   "source": [
    "### number series"
   ]
  },
  {
   "cell_type": "code",
   "execution_count": 4,
   "metadata": {},
   "outputs": [
    {
     "name": "stdout",
     "output_type": "stream",
     "text": [
      "1 2 3 4 "
     ]
    }
   ],
   "source": [
    "n=int(input(\"n: \"))\n",
    "for i in range(1,n+1):\n",
    "    print(i,end=\" \")"
   ]
  },
  {
   "cell_type": "code",
   "execution_count": 5,
   "metadata": {},
   "outputs": [
    {
     "name": "stdout",
     "output_type": "stream",
     "text": [
      "2 4 6 8 10 12 "
     ]
    }
   ],
   "source": [
    "#upto n even numbers.\n",
    "n=int(input(\"n: \"))\n",
    "#1.\n",
    "# for i in range(1,2*n+1):\n",
    "#     if i%2==0:  \n",
    "#        print(i,end=\" \")\n",
    "\n",
    "#2.\n",
    "# for i in range(1,n+1):\n",
    "#     print(2*i,end=\" \")\n",
    "\n",
    "#3.\n",
    "# l1=[2*i for i in range(1,n+1)]\n",
    "# print(*l1)\n",
    "\n",
    "#4.\n",
    "# l1=list(range(2,2*n+1,2))\n",
    "# print(*l1)"
   ]
  },
  {
   "cell_type": "code",
   "execution_count": 7,
   "metadata": {},
   "outputs": [
    {
     "name": "stdout",
     "output_type": "stream",
     "text": [
      "2 4 6 8 10\n"
     ]
    }
   ],
   "source": [
    "#5.\n",
    "n=int(input(\"n: \"))\n",
    "ob=range(2,n+1,2)\n",
    "print(*list(ob))                  #10"
   ]
  },
  {
   "cell_type": "code",
   "execution_count": 8,
   "metadata": {},
   "outputs": [
    {
     "name": "stdout",
     "output_type": "stream",
     "text": [
      "1 3 5 7 9 11\n"
     ]
    }
   ],
   "source": [
    "#upto n odd numbers\n",
    "n=int(input(\"n: \"))\n",
    "#1.\n",
    "# for i in range(1,n+1):\n",
    "#     print(2*i-1,end=\" \")\n",
    "\n",
    "#2.\n",
    "l1=list(range(1,2*n+1,2))              #6\n",
    "print(*l1)"
   ]
  },
  {
   "cell_type": "code",
   "execution_count": 10,
   "metadata": {},
   "outputs": [
    {
     "name": "stdout",
     "output_type": "stream",
     "text": [
      "2 5 10 17 26 37 "
     ]
    }
   ],
   "source": [
    "#square +1\n",
    "n=int(input(\"n: \"))\n",
    "for i in range(1,n+1):\n",
    "    print(i**2+1,end=\" \")                #6"
   ]
  },
  {
   "cell_type": "code",
   "execution_count": 24,
   "metadata": {},
   "outputs": [
    {
     "name": "stdout",
     "output_type": "stream",
     "text": [
      "1 8 27 64 125 "
     ]
    }
   ],
   "source": [
    "#cube series\n",
    "n=int(input(\"n: \"))\n",
    "for i in range(1,n+1):\n",
    "    print(i**3,end=\" \")"
   ]
  },
  {
   "cell_type": "code",
   "execution_count": 30,
   "metadata": {},
   "outputs": [
    {
     "name": "stdout",
     "output_type": "stream",
     "text": [
      "2 1 4 3 6 5 "
     ]
    }
   ],
   "source": [
    "#even and odd series\n",
    "n=int(input(\"n: \"))\n",
    "val1=2\n",
    "val2=1\n",
    "for i in range(n):\n",
    "    if i%2==0:\n",
    "        print(val1,end=\" \")\n",
    "        val1+=2\n",
    "    else:\n",
    "        print(val2,end=\" \")\n",
    "        val2+=2   \n",
    " \n",
    "#  n=int(input(\"n: \"))\n",
    "# for i in range(n):\n",
    "#     if i%2==0:\n",
    "#        print(i+2,end=\" \")\n",
    "#     else:\n",
    "#         print(i,end=\" \")   \n"
   ]
  },
  {
   "cell_type": "code",
   "execution_count": 45,
   "metadata": {},
   "outputs": [
    {
     "name": "stdout",
     "output_type": "stream",
     "text": [
      "0 1 1 2 3 5\n"
     ]
    }
   ],
   "source": [
    "                                 #fibonacci series\n",
    "n=int(input(\"n: \"))\n",
    "# a=0\n",
    "# b=1\n",
    "# for i in range(n):\n",
    "#     print(a,end=\" \")\n",
    "#     c=a+b\n",
    "#     a=b \n",
    "#     b=c\n",
    "\n",
    "lst=[0,1]\n",
    "for i in range(n-2):\n",
    "    lst.append(lst[-1]+lst[-2])\n",
    "print(*lst)\n",
    "\n"
   ]
  },
  {
   "cell_type": "markdown",
   "metadata": {},
   "source": [
    "### logical programming"
   ]
  },
  {
   "cell_type": "code",
   "execution_count": 10,
   "metadata": {},
   "outputs": [
    {
     "name": "stdout",
     "output_type": "stream",
     "text": [
      "10\n"
     ]
    }
   ],
   "source": [
    "                                    #sum of numbers\n",
    "# n=int(input())\n",
    "# val=0\n",
    "# for i in range(1,n+1):\n",
    "#     val+=i\n",
    "# print(val)  \n",
    "\n",
    "n=int(input())\n",
    "print(sum(range(1,n+1)))"
   ]
  },
  {
   "cell_type": "code",
   "execution_count": 11,
   "metadata": {},
   "outputs": [
    {
     "name": "stdout",
     "output_type": "stream",
     "text": [
      "24\n"
     ]
    }
   ],
   "source": [
    "                                     #factorial program\n",
    "n=int(input())\n",
    "f=1\n",
    "for i in range(1,n+1):\n",
    "    f*=i\n",
    "print(f)\n",
    "\n",
    "# from functools import reduce\n",
    "# n=int(input())\n",
    "# l1=[i for i in range(1,n+1)]\n",
    "# if n>0:\n",
    "#     res=reduce(lambda x,y:x*y,l1)\n",
    "# print(res if n!=0 else 1)    "
   ]
  },
  {
   "cell_type": "code",
   "execution_count": 12,
   "metadata": {},
   "outputs": [
    {
     "name": "stdout",
     "output_type": "stream",
     "text": [
      "6\n"
     ]
    }
   ],
   "source": [
    "                          #sum of even numbers\n",
    "n=int(input())\n",
    "sum=0\n",
    "for i in range(1,n+1):\n",
    "    if i%2==0:\n",
    "       sum+=i\n",
    "print(sum)\n",
    "\n",
    "# n=int(input())\n",
    "# print(sum([i for i in range(1,n+1) if i%2==0]))\n",
    "# print(sum(range(2,n+1,2)))"
   ]
  },
  {
   "cell_type": "code",
   "execution_count": 4,
   "metadata": {},
   "outputs": [
    {
     "name": "stdout",
     "output_type": "stream",
     "text": [
      "9 "
     ]
    }
   ],
   "source": [
    "                          #sum of odd numbers\n",
    "n=int(input())\n",
    "sum=0\n",
    "for i in range(1,n+1):\n",
    "    if i%2!=0:\n",
    "       sum+=i\n",
    "print(sum,end=\" \")\n",
    "\n",
    "# n=int(input())\n",
    "# print(sum([i for i in range(1,n+1) if i%2!=0]))\n",
    "# print(sum(range(1,n+1,2)))"
   ]
  },
  {
   "cell_type": "code",
   "execution_count": 36,
   "metadata": {},
   "outputs": [
    {
     "name": "stdout",
     "output_type": "stream",
     "text": [
      "33 "
     ]
    }
   ],
   "source": [
    "#sum of multiples of 3 and  5\n",
    "n=int(input())\n",
    "# print(sum([i for i in range(1,n+1) if i%3==0 or i%5==0]))\n",
    "sum=0\n",
    "for i in range(1,n+1):\n",
    "    if i%3==0 or i%5==0:\n",
    "        sum+=i\n",
    "print(sum,end=\" \")"
   ]
  },
  {
   "cell_type": "code",
   "execution_count": 34,
   "metadata": {},
   "outputs": [
    {
     "name": "stdout",
     "output_type": "stream",
     "text": [
      "1 2 5 10\n"
     ]
    }
   ],
   "source": [
    "#program to display the factors of n\n",
    "n=int(input())\n",
    "# for i in range(1,n+1):\n",
    "#     if n%i==0:\n",
    "#         print(i,end=\" \")\n",
    "\n",
    "print(*[i for i in range(1,n+1) if n%i==0])"
   ]
  },
  {
   "cell_type": "code",
   "execution_count": 40,
   "metadata": {},
   "outputs": [
    {
     "name": "stdout",
     "output_type": "stream",
     "text": [
      "4\n"
     ]
    }
   ],
   "source": [
    "#count the factors of the number\n",
    "\n",
    "n=int(input())\n",
    "c=0\n",
    "for i in range(1,n+1):\n",
    "    if n%i==0:\n",
    "       c+=1    \n",
    "print(c)\n",
    "  \n"
   ]
  },
  {
   "cell_type": "code",
   "execution_count": 47,
   "metadata": {},
   "outputs": [
    {
     "name": "stdout",
     "output_type": "stream",
     "text": [
      "5 is a prime number\n"
     ]
    }
   ],
   "source": [
    "                                      #prime numbers\n",
    "# n=int(input())\n",
    "# c=0\n",
    "# for i in range(1,n+1):\n",
    "#     if n%i==0:\n",
    "#         c+=1\n",
    "# if c==2:\n",
    "#     print(f\"{n} is a prime number\")\n",
    "# else:\n",
    "#     print(f\"{n} is not a prime number\")  \n",
    "\n",
    "# n=int(input())\n",
    "# c=0\n",
    "# lc=0\n",
    "# for i in range(1,n+1):\n",
    "#     lc+=1\n",
    "#     if n%i==0:\n",
    "#         c+=1\n",
    "# if c==0:\n",
    "#     print(f\"{n} is a prime number\")\n",
    "# else:\n",
    "#     print(f\"{n} is not a prime number\") \n",
    "\n",
    "n=int(input())\n",
    "if n>0:\n",
    "  c=0\n",
    "  for i in range(2,n//2+1):\n",
    "    if n%i==0:\n",
    "        c+=1\n",
    "        break\n",
    "  if c==0:\n",
    "    print(f\"{n} is a prime number\")\n",
    "  else:\n",
    "    print(f\"{n} is not a prime number\") \n",
    "else:\n",
    "  print(\"enter positive value\")    \n"
   ]
  },
  {
   "cell_type": "code",
   "execution_count": 10,
   "metadata": {},
   "outputs": [
    {
     "name": "stdout",
     "output_type": "stream",
     "text": [
      "9\n"
     ]
    }
   ],
   "source": [
    "                               #sum of n odd numbers\n",
    "# n=int(input())\n",
    "# sum=0\n",
    "# for i in range(1,2*n):\n",
    "#     if i%2!=0:\n",
    "#        sum+=i\n",
    "# print(sum,end=\" \")\n",
    "\n",
    "# n=int(input())\n",
    "# sum=0\n",
    "# for i in range(1,n+1):\n",
    "#        sum+=i*2-1\n",
    "# print(sum,end=\" \")\n",
    "\n",
    "n=int(input())\n",
    "res=0\n",
    "c=1\n",
    "r=0\n",
    "while True:\n",
    "    if c%2!=0:\n",
    "        res+=c\n",
    "        r+=1\n",
    "    c+=1\n",
    "    if r==n:\n",
    "        break\n",
    "print(res)        \n"
   ]
  },
  {
   "cell_type": "code",
   "execution_count": 16,
   "metadata": {},
   "outputs": [
    {
     "name": "stdout",
     "output_type": "stream",
     "text": [
      "12\n"
     ]
    }
   ],
   "source": [
    "                                 #sum of n even numbers\n",
    "# n=int(input())\n",
    "# sum=0\n",
    "# for i in range(1,2*n+1):\n",
    "#     if i%2==0:\n",
    "#        sum+=i\n",
    "# print(sum,end=\" \")\n",
    "\n",
    "# n=int(input())\n",
    "# sum=0\n",
    "# for i in range(1,n+1):\n",
    "#        sum+=i*2\n",
    "# print(sum,end=\" \")\n",
    "\n",
    "n=int(input())\n",
    "res=0\n",
    "c=1\n",
    "r=0\n",
    "while True:\n",
    "    if c%2==0:\n",
    "        res+=c\n",
    "        r+=1\n",
    "    c+=1\n",
    "    if r==n:\n",
    "        break\n",
    "print(res)"
   ]
  },
  {
   "cell_type": "code",
   "execution_count": 5,
   "metadata": {},
   "outputs": [
    {
     "name": "stdout",
     "output_type": "stream",
     "text": [
      "2 3 5 "
     ]
    }
   ],
   "source": [
    "#prime numbers from 1 to n\n",
    "n=int(input())\n",
    "for i in range(1,n+1):\n",
    "    f=0\n",
    "    for j in range(2,i//2+1):\n",
    "        if i%j==0:\n",
    "            f+=1                                     #7\n",
    "            break\n",
    "\n",
    "    if f==0 and i!=1:\n",
    "        print(i,end=\" \")    \n",
    "\n"
   ]
  },
  {
   "cell_type": "code",
   "execution_count": 7,
   "metadata": {},
   "outputs": [
    {
     "name": "stdout",
     "output_type": "stream",
     "text": [
      "2 3 5 7 11 "
     ]
    }
   ],
   "source": [
    "                                # n prime numbers\n",
    "n=int(input())\n",
    "count=0\n",
    "i=2\n",
    "while True:                                                #5\n",
    "    f=0\n",
    "    for j in range(2,i//2+1):\n",
    "        if i%j==0:\n",
    "            f+=1\n",
    "            break\n",
    "        \n",
    "    if f==0:\n",
    "        print(i,end=\" \")\n",
    "        count+=1\n",
    "\n",
    "    if count==n:\n",
    "        break\n",
    "    i+=1\n"
   ]
  },
  {
   "cell_type": "code",
   "execution_count": 16,
   "metadata": {},
   "outputs": [
    {
     "name": "stdout",
     "output_type": "stream",
     "text": [
      "4\n"
     ]
    }
   ],
   "source": [
    "#hcf of two numbers\n",
    "n1=int(input())\n",
    "n2=int(input())   \n",
    "\n",
    "# m=min(n1,n2)\n",
    "# hcf=0\n",
    "# for i in range(1,m+1):\n",
    "#         if n1%i==0 and n2%i==0:\n",
    "#             hcf=i\n",
    "\n",
    "# print(hcf)  \n",
    "                    #(euclid algorithm)\n",
    "while n2!=0:\n",
    "    n1,n2=n2,n1%n2\n",
    "\n",
    "print(n1)               \n"
   ]
  },
  {
   "cell_type": "code",
   "execution_count": 1,
   "metadata": {},
   "outputs": [
    {
     "name": "stdout",
     "output_type": "stream",
     "text": [
      "24\n"
     ]
    }
   ],
   "source": [
    "#lcm of two numbers\n",
    "n1=int(input())\n",
    "n2=int(input())\n",
    "\n",
    "m1=max(n1,n2)\n",
    "m2=min(n1,n2)\n",
    "p=1\n",
    "lcm=1\n",
    "\n",
    "for i in range(1,m2+1):\n",
    "    p=i*m1\n",
    "    if p%n1==0 and p%n2==0:\n",
    "        lcm=p\n",
    "        break                                          # print(p)\n",
    "        \n",
    "print(lcm)\n"
   ]
  },
  {
   "cell_type": "code",
   "execution_count": null,
   "metadata": {},
   "outputs": [],
   "source": []
  }
 ],
 "metadata": {
  "kernelspec": {
   "display_name": "Python 3",
   "language": "python",
   "name": "python3"
  },
  "language_info": {
   "codemirror_mode": {
    "name": "ipython",
    "version": 3
   },
   "file_extension": ".py",
   "mimetype": "text/x-python",
   "name": "python",
   "nbconvert_exporter": "python",
   "pygments_lexer": "ipython3",
   "version": "3.12.2"
  }
 },
 "nbformat": 4,
 "nbformat_minor": 2
}
