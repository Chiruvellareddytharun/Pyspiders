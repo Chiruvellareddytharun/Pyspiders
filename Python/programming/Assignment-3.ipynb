{
 "cells": [
  {
   "cell_type": "markdown",
   "metadata": {},
   "source": [
    "### ASSIGNMENT-3"
   ]
  },
  {
   "cell_type": "code",
   "execution_count": 12,
   "metadata": {},
   "outputs": [
    {
     "name": "stdout",
     "output_type": "stream",
     "text": [
      "      * \n",
      "    * * \n",
      "  *   * \n",
      "*     * \n",
      "  *   * \n",
      "    * * \n",
      "      * \n"
     ]
    }
   ],
   "source": [
    "#1.\n",
    "n=int(input(\"n: \"))\n",
    " \n",
    "for i in range(2*n-1):\n",
    "    for j in range(n):\n",
    "        if i+j==n-1 or i-j==n-1 or j==n-1:\n",
    "           print(\"*\",end=\" \")\n",
    "        else:\n",
    "            print(\" \",end=\" \")\n",
    "    print()"
   ]
  },
  {
   "cell_type": "code",
   "execution_count": 19,
   "metadata": {},
   "outputs": [
    {
     "name": "stdout",
     "output_type": "stream",
     "text": [
      "*         \n",
      "* *       \n",
      "*   *     \n",
      "*     *   \n",
      "*       * \n",
      "*     *   \n",
      "*   *     \n",
      "* *       \n",
      "*         \n"
     ]
    }
   ],
   "source": [
    "#2.\n",
    "n=int(input(\"n: \"))\n",
    " \n",
    "for i in range(2*n-1):\n",
    "    for j in range(n):\n",
    "        if i==j  or j==0 or i+j==2*n-2:\n",
    "           print(\"*\",end=\" \")\n",
    "        else:\n",
    "            print(\" \",end=\" \")\n",
    "    print()"
   ]
  },
  {
   "cell_type": "code",
   "execution_count": 22,
   "metadata": {},
   "outputs": [
    {
     "name": "stdout",
     "output_type": "stream",
     "text": [
      "      A \n",
      "    B B B \n",
      "  C C C C C \n",
      "D D D D D D D \n"
     ]
    }
   ],
   "source": [
    "#3.\n",
    "n=int(input(\"n: \"))\n",
    "val=ord('A')\n",
    " \n",
    "for i in range(n):\n",
    "    for j in range(n-i-1):\n",
    "           print(\" \",end=\" \")\n",
    "    for k in range(2*i+1):    \n",
    "            print(chr(val),end=\" \")\n",
    "    print()\n",
    "    val+=1"
   ]
  },
  {
   "cell_type": "code",
   "execution_count": 25,
   "metadata": {},
   "outputs": [
    {
     "name": "stdout",
     "output_type": "stream",
     "text": [
      "        1 \n",
      "      2 3 4 \n",
      "    5 6 7 8 9 \n",
      "  1 2 3 4 5 6 7 \n",
      "8 9 1 2 3 4 5 6 7 \n"
     ]
    }
   ],
   "source": [
    "#4.\n",
    "n=int(input(\"n: \"))\n",
    "val=1\n",
    "\n",
    "for i in range(n):\n",
    "    for j in range(n-i-1):\n",
    "           print(\" \",end=\" \")\n",
    "    for k in range(2*i+1):\n",
    "            print(val,end=\" \")\n",
    "            val+=1\n",
    "            if val>9:\n",
    "                val=1\n",
    "    print()\n",
    "    "
   ]
  },
  {
   "cell_type": "code",
   "execution_count": 18,
   "metadata": {},
   "outputs": [
    {
     "name": "stdout",
     "output_type": "stream",
     "text": [
      "        5 \n",
      "      4 4 4 \n",
      "    3 3 3 3 3 \n",
      "  2 2 2 2 2 2 2 \n",
      "1 1 1 1 1 1 1 1 1 \n"
     ]
    }
   ],
   "source": [
    "#5.\n",
    "n=int(input(\"n: \"))\n",
    "val=n\n",
    "if val>9:\n",
    "   val=9\n",
    "\n",
    "for i in range(n):\n",
    "    for j in range(n-i-1):\n",
    "           print(\" \",end=\" \")\n",
    "    for k in range(2*i+1):\n",
    "           print(val,end=\" \")\n",
    "            \n",
    "    print()\n",
    "    val-=1\n",
    "    if val<1:\n",
    "       val=9\n",
    "    \n"
   ]
  },
  {
   "cell_type": "code",
   "execution_count": 45,
   "metadata": {},
   "outputs": [
    {
     "name": "stdout",
     "output_type": "stream",
     "text": [
      "        E \n",
      "      D D D \n",
      "    C C C C C \n",
      "  B B B B B B B \n",
      "A A A A A A A A A \n"
     ]
    }
   ],
   "source": [
    "#6.\n",
    "n=int(input(\"n: \"))\n",
    "val=ord('A')+n-1\n",
    "if val>ord('Z'):\n",
    "      val=ord('Z')\n",
    "\n",
    "for i in range(n):\n",
    "    for j in range(n-i-1):\n",
    "           print(\" \",end=\" \")\n",
    "    for k in range(2*i+1):\n",
    "            print(chr(val),end=\" \")\n",
    "            \n",
    "    print()\n",
    "    val-=1\n",
    "    if val<ord(\"A\"):\n",
    "       val=ord(\"Z\")"
   ]
  },
  {
   "cell_type": "code",
   "execution_count": 3,
   "metadata": {},
   "outputs": [
    {
     "name": "stdout",
     "output_type": "stream",
     "text": [
      "* * * * * * * * * \n",
      "  * * * * * * * \n",
      "    * * * * * \n",
      "      * * * \n",
      "        * \n"
     ]
    }
   ],
   "source": [
    "#7.\n",
    "n= int(input(\"n: \"))\n",
    "for i in range(n):\n",
    "      for k in range(i):\n",
    "          print(\" \", end =\" \")\n",
    "      \n",
    "      for j in range(2 * (n - i) - 1):\n",
    "                print(\"*\", end = \" \")\n",
    "                \n",
    "      print()\n"
   ]
  },
  {
   "cell_type": "code",
   "execution_count": 5,
   "metadata": {},
   "outputs": [
    {
     "name": "stdout",
     "output_type": "stream",
     "text": [
      "1 2 3 4 5 6 7 \n",
      "  8 9 1 2 3 \n",
      "    4 5 6 \n",
      "      7 \n"
     ]
    }
   ],
   "source": [
    "#8.\n",
    "n= int(input(\"n: \"))\n",
    "val=1\n",
    "\n",
    "for i in range(n):\n",
    "      for k in range(i):\n",
    "          print(\" \", end =\" \")\n",
    "      \n",
    "      for j in range(2 * (n - i) - 1):\n",
    "                print(val, end = \" \")\n",
    "                val+=1\n",
    "                if val>9:\n",
    "                   val=1\n",
    "                \n",
    "      print()\n"
   ]
  },
  {
   "cell_type": "code",
   "execution_count": 19,
   "metadata": {},
   "outputs": [
    {
     "name": "stdout",
     "output_type": "stream",
     "text": [
      "* * *       \n",
      "* * *       \n",
      "* * *       \n",
      "      * * * \n",
      "      * * * \n",
      "      * * * \n"
     ]
    }
   ],
   "source": [
    "#9.\n",
    "n= int(input(\"n: \"))\n",
    "for i in range(n):\n",
    "      for j in range(n):\n",
    "            if (i<n/2 and j<n/2) or (i>=n/2 and j>=n/2):\n",
    "               print(\"*\", end = \" \")\n",
    "            else:\n",
    "                 print(\" \",end=\" \")   \n",
    "                \n",
    "      print()\n"
   ]
  },
  {
   "cell_type": "code",
   "execution_count": 1,
   "metadata": {},
   "outputs": [
    {
     "name": "stdout",
     "output_type": "stream",
     "text": [
      "* * * * * * * * * \n",
      "  * $ $ $ $ $ *   \n",
      "    * $ $ $ *     \n",
      "      * $ *       \n",
      "        *         \n"
     ]
    }
   ],
   "source": [
    "#10.\n",
    "n=int(input(\"n: \"))\n",
    "for i in range(n):\n",
    "    for j in range(2*n-1):\n",
    "        if j==i or i+j==(2*n-2) or i==0:\n",
    "            print(\"*\",end=\" \")\n",
    "        elif i<j and i+j<(2*n-2):\n",
    "            print(\"$\",end=\" \")\n",
    "        else:\n",
    "            print(\" \",end=\" \")\n",
    "    print()                "
   ]
  },
  {
   "cell_type": "code",
   "execution_count": null,
   "metadata": {},
   "outputs": [],
   "source": []
  }
 ],
 "metadata": {
  "kernelspec": {
   "display_name": "Python 3",
   "language": "python",
   "name": "python3"
  },
  "language_info": {
   "codemirror_mode": {
    "name": "ipython",
    "version": 3
   },
   "file_extension": ".py",
   "mimetype": "text/x-python",
   "name": "python",
   "nbconvert_exporter": "python",
   "pygments_lexer": "ipython3",
   "version": "3.12.2"
  }
 },
 "nbformat": 4,
 "nbformat_minor": 2
}
