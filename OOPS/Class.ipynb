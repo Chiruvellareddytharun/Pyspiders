{
 "cells": [
  {
   "cell_type": "code",
   "execution_count": 1,
   "metadata": {},
   "outputs": [
    {
     "name": "stdout",
     "output_type": "stream",
     "text": [
      "4\n",
      "4\n"
     ]
    }
   ],
   "source": [
    "class EXAMPLE:\n",
    "    a=10\n",
    "\n",
    "    def __init__(self,p):\n",
    "        self.p=p\n",
    "\n",
    "    def meth(self):\n",
    "        print(self.p)\n",
    "obj1=EXAMPLE(4)\n",
    "obj1.meth()\n",
    "EXAMPLE.meth(obj1)            \n"
   ]
  },
  {
   "cell_type": "code",
   "execution_count": 2,
   "metadata": {},
   "outputs": [
    {
     "name": "stdout",
     "output_type": "stream",
     "text": [
      "10\n",
      "10\n"
     ]
    }
   ],
   "source": [
    "class EXAMPLE:\n",
    "    a=10\n",
    "\n",
    "    def __init__(self,p):\n",
    "        self.p=p\n",
    "\n",
    "    def meth(self):\n",
    "        print(self.p)\n",
    "\n",
    "obj1=EXAMPLE(1000)\n",
    "print(obj1.a)\n",
    "\n",
    "print(EXAMPLE.a)           \n"
   ]
  },
  {
   "cell_type": "code",
   "execution_count": 4,
   "metadata": {},
   "outputs": [
    {
     "name": "stdout",
     "output_type": "stream",
     "text": [
      "...........Your details...........\n",
      "Name: Lucky\n",
      "Age: 20\n",
      "Gender: female\n",
      "Mno: 111\n",
      "Degree: CSE\n",
      "Institute: pyspiders\n",
      "Location: basavangudi\n",
      "............Thank you..............\n",
      "...........Your details...........\n",
      "Name: Tharun\n",
      "Age: 20\n",
      "Gender: male\n",
      "Mno: 222\n",
      "Degree: IT\n",
      "Institute: pyspiders\n",
      "Location: basavangudi\n",
      "............Thank you..............\n",
      "...........Your details...........\n",
      "Name: Abdul\n",
      "Age: 20\n",
      "Gender: male\n",
      "Mno: 333\n",
      "Degree: EEE\n",
      "Institute: pyspiders\n",
      "Location: basavangudi\n",
      "............Thank you..............\n",
      "...........Your details...........\n",
      "Name: Nisha\n",
      "Age: 21\n",
      "Gender: female\n",
      "Mno: 444\n",
      "Degree: BSC\n",
      "Institute: pyspiders\n",
      "Location: basavangudi\n",
      "............Thank you..............\n",
      "...........Your details...........\n",
      "Name: Deepika\n",
      "Age: 21\n",
      "Gender: female\n",
      "Mno: 555\n",
      "Degree: BCA\n",
      "Institute: pyspiders\n",
      "Location: basavangudi\n",
      "............Thank you..............\n"
     ]
    }
   ],
   "source": [
    "class student:\n",
    "    institute=\"pyspiders\"\n",
    "    location=\"basavangudi\"\n",
    "\n",
    "    def __init__(self,name,age,gender,mno,degree):\n",
    "        self.name=name\n",
    "        self.age=age\n",
    "        self.gender=gender\n",
    "        self.mno=mno\n",
    "        self.degree=degree\n",
    "\n",
    "    def details(self):\n",
    "           print(\"...........Your details...........\")\n",
    "           print(f\"Name: {self.name}\")\n",
    "           print(f\"Age: {self.age}\")\n",
    "           print(f\"Gender: {self.gender}\")\n",
    "           print(f\"Mno: {self.mno}\")\n",
    "           print(f\"Degree: {self.degree}\")\n",
    "           print(f\"Institute: {student.institute}\")\n",
    "           print(f\"Location: {student.location}\")\n",
    "           print(\"............Thank you..............\")\n",
    "\n",
    "s1=student('Lucky',20,\"female\",111,\"CSE\")\n",
    "s2=student('Tharun',20,\"male\",222,\"IT\")\n",
    "s3=student('Abdul',20,\"male\",333,\"EEE\")\n",
    "s4=student('Nisha',21,\"female\",444,\"BSC\")\n",
    "s5=student('Deepika',21,\"female\",555,\"BCA\")\n",
    "\n",
    "s1.details()\n",
    "s2.details()\n",
    "s3.details()\n",
    "s4.details()\n",
    "s5.details()\n"
   ]
  },
  {
   "cell_type": "code",
   "execution_count": null,
   "metadata": {},
   "outputs": [
    {
     "name": "stdout",
     "output_type": "stream",
     "text": [
      "mobile is making calls\n",
      "device is consuming battery\n",
      "mobile is watching netflix\n",
      "device is consuming battery\n",
      "mobile is playing PUBG\n",
      "device is consuming battery\n",
      "mobile is plug into charging\n",
      "device is charging\n"
     ]
    }
   ],
   "source": [
    "#write a program to build HAS_A relationship b/w two classes.\n",
    "class battery:\n",
    "   def __init__(self,capacity):\n",
    "      self.capacity = capacity\n",
    "   def charging(self):\n",
    "      print(\"device is charging\")\n",
    "   def discharging(self):\n",
    "      print(\"device is consuming battery\")\n",
    "\n",
    "class mobile:\n",
    "   def __init__(self,name,price,color,capacity):\n",
    "      self.name=name\n",
    "      self.price=price\n",
    "      self.color=color\n",
    "      self.capacity=capacity\n",
    "      self.b1=battery(capacity)\n",
    "\n",
    "   def calls(self):\n",
    "      print(\"mobile is making calls\")\n",
    "      self.b1.discharging()\n",
    "   def netflix(self):\n",
    "      print(\"mobile is watching netflix\")\n",
    "      self.b1.discharging()\n",
    "   def PUBG(self):\n",
    "      print(\"mobile is playing PUBG\")\n",
    "      self.b1.discharging()\n",
    "   def plug_into_charge(self):\n",
    "      print(\"mobile is plug into charging\")\n",
    "      self.b1.charging()\n",
    "   \n",
    "m1=mobile(\"poco\",10000,\"blue\",99)\n",
    "m1.calls()\n",
    "m1.netflix()\n",
    "m1.PUBG()\n",
    "m1.plug_into_charge()   \n",
    "   \n",
    "            "
   ]
  },
  {
   "cell_type": "code",
   "execution_count": null,
   "metadata": {},
   "outputs": [],
   "source": []
  }
 ],
 "metadata": {
  "kernelspec": {
   "display_name": "Python 3",
   "language": "python",
   "name": "python3"
  },
  "language_info": {
   "codemirror_mode": {
    "name": "ipython",
    "version": 3
   },
   "file_extension": ".py",
   "mimetype": "text/x-python",
   "name": "python",
   "nbconvert_exporter": "python",
   "pygments_lexer": "ipython3",
   "version": "3.12.2"
  }
 },
 "nbformat": 4,
 "nbformat_minor": 2
}
